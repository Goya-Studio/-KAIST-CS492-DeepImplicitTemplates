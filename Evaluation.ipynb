{
 "cells": [
  {
   "cell_type": "code",
   "execution_count": 5,
   "id": "97b8ce12-326a-4c43-8d5c-fd084fb729e3",
   "metadata": {},
   "outputs": [],
   "source": [
    "import argparse\n",
    "import logging\n",
    "import json\n",
    "import numpy as np\n",
    "import os\n",
    "import trimesh\n",
    "from pathos.multiprocessing import ProcessPool as Pool\n",
    "from scipy.spatial import cKDTree as KDTree\n",
    "from scipy.optimize import linear_sum_assignment\n"
   ]
  },
  {
   "cell_type": "code",
   "execution_count": 6,
   "id": "3e993d51-6394-4340-bcac-440667a4d445",
   "metadata": {},
   "outputs": [],
   "source": [
    "#From DeepSDF metrics \n",
    "# https://github.com/facebookresearch/DeepSDF/tree/main/deep_sdf/metrics\n",
    "# \n",
    "\n",
    "def compute_trimesh_chamfer(gt_points, gen_mesh, offset, scale, num_mesh_samples=30000):\n",
    "    \"\"\"\n",
    "    This function computes a symmetric chamfer distance, i.e. the sum of both chamfers.\n",
    "\n",
    "    gt_points: trimesh.points.PointCloud of just poins, sampled from the surface (see\n",
    "               compute_metrics.ply for more documentation)\n",
    "\n",
    "    gen_mesh: trimesh.base.Trimesh of output mesh from whichever autoencoding reconstruction\n",
    "              method (see compute_metrics.py for more)\n",
    "\n",
    "    \"\"\"\n",
    "\n",
    "    gen_points_sampled = trimesh.sample.sample_surface(gen_mesh, num_mesh_samples)[0]\n",
    "   # print(gen_points_sampled)\n",
    "    gen_points_sampled = gen_points_sampled / scale - offset\n",
    "\n",
    "    # only need numpy array of points\n",
    "    # gt_points_np = gt_points.vertices\n",
    "   # print(gt_points)\n",
    "    gt_points_np = gt_points.vertices\n",
    "\n",
    "    # one direction\n",
    "    gen_points_kd_tree = KDTree(gen_points_sampled)\n",
    "    one_distances, one_vertex_ids = gen_points_kd_tree.query(gt_points_np)\n",
    "    gt_to_gen_chamfer = np.mean(np.square(one_distances))\n",
    "\n",
    "    # other direction\n",
    "    gt_points_kd_tree = KDTree(gt_points_np)\n",
    "    two_distances, two_vertex_ids = gt_points_kd_tree.query(gen_points_sampled)\n",
    "    gen_to_gt_chamfer = np.mean(np.square(two_distances))\n",
    "\n",
    "    return gt_to_gen_chamfer + gen_to_gt_chamfer"
   ]
  },
  {
   "cell_type": "code",
   "execution_count": 7,
   "id": "53ad6135-2e73-4785-b12b-96d0053189ca",
   "metadata": {},
   "outputs": [],
   "source": [
    "def compute_trimesh_emd(gt_points, gen_mesh, offset, scale, num_mesh_samples=500):\n",
    "    \"\"\"\n",
    "    This function computes a symmetric chamfer distance, i.e. the sum of both chamfers.\n",
    "\n",
    "    gt_points: trimesh.points.PointCloud of just poins, sampled from the surface (see\n",
    "               compute_metrics.ply for more documentation)\n",
    "\n",
    "    gen_mesh: trimesh.base.Trimesh of output mesh from whichever autoencoding reconstruction\n",
    "              method (see compute_metrics.py for more)\n",
    "\n",
    "    \"\"\"\n",
    "\n",
    "    gen_points_sampled = trimesh.sample.sample_surface(gen_mesh, num_mesh_samples)[0]\n",
    "\n",
    "    gen_points_sampled = gen_points_sampled / scale - offset\n",
    "\n",
    "    # only need numpy array of points\n",
    "    # gt_points_np = gt_points.vertices\n",
    "    gt_points_np = gt_points.vertices\n",
    "    gt_points_np = np.random.permutation(gt_points_np)[:num_mesh_samples]\n",
    "\n",
    "    # hist0 = hist1 = np.ones([num_mesh_samples], dtype=np.float64) / num_mesh_samples\n",
    "    dist = np.linalg.norm(np.expand_dims(gt_points_np, axis=0) - np.expand_dims(gen_points_sampled, axis=1), axis=-1)\n",
    "    # dist = dist.astype(np.float64)\n",
    "    # emd = pyemd.emd(hist0, hist1, dist)\n",
    "    assignment = linear_sum_assignment(dist)\n",
    "    emd = dist[assignment].sum() / num_mesh_samples\n",
    "\n",
    "    return emd\n"
   ]
  },
  {
   "cell_type": "code",
   "execution_count": 8,
   "id": "772ffce4-fc58-4af3-93d3-c00d583a148e",
   "metadata": {},
   "outputs": [
    {
     "name": "stdout",
     "output_type": "stream",
     "text": [
      "the number of Dataset: 4\n"
     ]
    }
   ],
   "source": [
    "DIRECTORY_MODELS = '../reconstruction/mesh' # Mesh Directory\n",
    "DIRECTORY_GT = '../reconstruction/mesh'\n",
    "MODEL_EXTENSION = '.ply'\n",
    "def get_model_files():\n",
    "    for directory, _, files in os.walk(DIRECTORY_MODELS):\n",
    "        for filename in files:\n",
    "            if filename.endswith(MODEL_EXTENSION):\n",
    "                yield  os.path.join(filename)\n",
    "    \n",
    "               \n",
    "files = list(get_model_files())\n",
    "print(\"the number of Dataset:\", len(files))"
   ]
  },
  {
   "cell_type": "code",
   "execution_count": 10,
   "id": "f376ddee-418b-400a-8df0-8193fe56a1df",
   "metadata": {},
   "outputs": [
    {
     "name": "stdout",
     "output_type": "stream",
     "text": [
      "Chamfer:  2.7795624681639686e-05\n",
      "EMD:  0.06760279880444281\n"
     ]
    }
   ],
   "source": [
    "cd_mean = []\n",
    "emd_mean = []\n",
    "\n",
    "for ii, data in enumerate(files):\n",
    "    data_dir = os.path.join(DIRECTORY_MODELS, data)\n",
    "    rec_data = trimesh.load(data_dir)\n",
    "#    print(data_dir)\n",
    "    gt_dir = os.path.join(DIRECTORY_GT, data)\n",
    "    gt_data = trimesh.load(gt_dir)\n",
    "    \n",
    "    Chamfer = compute_trimesh_chamfer(rec_data,gt_data,0, 1)\n",
    "    EMD = compute_trimesh_emd(rec_data,gt_data,0, 1)\n",
    "    cd_mean.append(Chamfer)\n",
    "    emd_mean.append(EMD)\n",
    "CD_M = sum(cd_mean)/len(cd_mean)\n",
    "EMD_M = sum(emd_mean)/len(emd_mean)\n",
    "print(\"Chamfer: \",CD_M)\n",
    "print(\"EMD: \", EMD_M)"
   ]
  },
  {
   "cell_type": "code",
   "execution_count": null,
   "id": "096cfe12-213f-4b61-a684-ae2a6c3b6e46",
   "metadata": {},
   "outputs": [],
   "source": []
  },
  {
   "cell_type": "code",
   "execution_count": null,
   "id": "60e319bc-3829-4352-99eb-e3ddaeaa3807",
   "metadata": {},
   "outputs": [],
   "source": []
  }
 ],
 "metadata": {
  "kernelspec": {
   "display_name": "Python 3",
   "language": "python",
   "name": "python3"
  },
  "language_info": {
   "codemirror_mode": {
    "name": "ipython",
    "version": 3
   },
   "file_extension": ".py",
   "mimetype": "text/x-python",
   "name": "python",
   "nbconvert_exporter": "python",
   "pygments_lexer": "ipython3",
   "version": "3.8.8"
  }
 },
 "nbformat": 4,
 "nbformat_minor": 5
}
