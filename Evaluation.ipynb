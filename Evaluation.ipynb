{
 "cells": [
  {
   "cell_type": "code",
   "execution_count": 3,
   "id": "97b8ce12-326a-4c43-8d5c-fd084fb729e3",
   "metadata": {},
   "outputs": [],
   "source": [
    "import argparse\n",
    "import logging\n",
    "import json\n",
    "import numpy as np\n",
    "import os\n",
    "import trimesh\n",
    "from pathos.multiprocessing import ProcessPool as Pool\n",
    "from scipy.spatial import cKDTree as KDTree\n",
    "from scipy.optimize import linear_sum_assignment\n"
   ]
  },
  {
   "cell_type": "code",
   "execution_count": 4,
   "id": "3e993d51-6394-4340-bcac-440667a4d445",
   "metadata": {},
   "outputs": [],
   "source": [
    "#From DeepSDF metrics \n",
    "# https://github.com/facebookresearch/DeepSDF/tree/main/deep_sdf/metrics\n",
    "# \n",
    "\n",
    "def compute_trimesh_chamfer(gt_points, gen_mesh, offset, scale, num_mesh_samples=30000):\n",
    "    \"\"\"\n",
    "    This function computes a symmetric chamfer distance, i.e. the sum of both chamfers.\n",
    "\n",
    "    gt_points: trimesh.points.PointCloud of just poins, sampled from the surface (see\n",
    "               compute_metrics.ply for more documentation)\n",
    "\n",
    "    gen_mesh: trimesh.base.Trimesh of output mesh from whichever autoencoding reconstruction\n",
    "              method (see compute_metrics.py for more)\n",
    "\n",
    "    \"\"\"\n",
    "\n",
    "    gen_points_sampled = trimesh.sample.sample_surface(gen_mesh, num_mesh_samples)[0]\n",
    "   # print(gen_points_sampled)\n",
    "    gen_points_sampled = gen_points_sampled / scale - offset\n",
    "\n",
    "    # only need numpy array of points\n",
    "    # gt_points_np = gt_points.vertices\n",
    "   # print(gt_points)\n",
    "    gt_points_np = gt_points.vertices\n",
    "\n",
    "    # one direction\n",
    "    gen_points_kd_tree = KDTree(gen_points_sampled)\n",
    "    one_distances, one_vertex_ids = gen_points_kd_tree.query(gt_points_np)\n",
    "    gt_to_gen_chamfer = np.mean(np.square(one_distances))\n",
    "\n",
    "    # other direction\n",
    "    gt_points_kd_tree = KDTree(gt_points_np)\n",
    "    two_distances, two_vertex_ids = gt_points_kd_tree.query(gen_points_sampled)\n",
    "    gen_to_gt_chamfer = np.mean(np.square(two_distances))\n",
    "\n",
    "    return gt_to_gen_chamfer + gen_to_gt_chamfer"
   ]
  },
  {
   "cell_type": "code",
   "execution_count": 5,
   "id": "53ad6135-2e73-4785-b12b-96d0053189ca",
   "metadata": {},
   "outputs": [],
   "source": [
    "# From DIT\n",
    "#https://github.com/ZhengZerong/DeepImplicitTemplates/tree/master/deep_sdf/metrics\n",
    "\n",
    "def compute_trimesh_emd(gt_points, gen_mesh, offset, scale, num_mesh_samples=30000):\n",
    "    \"\"\"\n",
    "    This function computes a symmetric chamfer distance, i.e. the sum of both chamfers.\n",
    "\n",
    "    gt_points: trimesh.points.PointCloud of just poins, sampled from the surface (see\n",
    "               compute_metrics.ply for more documentation)\n",
    "\n",
    "    gen_mesh: trimesh.base.Trimesh of output mesh from whichever autoencoding reconstruction\n",
    "              method (see compute_metrics.py for more)\n",
    "\n",
    "    \"\"\"\n",
    "\n",
    "    gen_points_sampled = trimesh.sample.sample_surface(gen_mesh, num_mesh_samples)[0]\n",
    "\n",
    "    gen_points_sampled = gen_points_sampled / scale - offset\n",
    "\n",
    "    # only need numpy array of points\n",
    "    # gt_points_np = gt_points.vertices\n",
    "    gt_points_np = gt_points.vertices\n",
    "    gt_points_np = np.random.permutation(gt_points_np)[:num_mesh_samples]\n",
    "\n",
    "    # hist0 = hist1 = np.ones([num_mesh_samples], dtype=np.float64) / num_mesh_samples\n",
    "    dist = np.linalg.norm(np.expand_dims(gt_points_np, axis=0) - np.expand_dims(gen_points_sampled, axis=1), axis=-1)\n",
    "    # dist = dist.astype(np.float64)\n",
    "    # emd = pyemd.emd(hist0, hist1, dist)\n",
    "    assignment = linear_sum_assignment(dist)\n",
    "    emd = dist[assignment].sum() / num_mesh_samples\n",
    "\n",
    "    return emd\n"
   ]
  },
  {
   "cell_type": "code",
   "execution_count": 13,
   "id": "772ffce4-fc58-4af3-93d3-c00d583a148e",
   "metadata": {},
   "outputs": [
    {
     "name": "stdout",
     "output_type": "stream",
     "text": [
      "the number of Dataset: 3\n"
     ]
    }
   ],
   "source": [
    "DIRECTORY_MODELS = './reconstruction/04256520/mesh' # 04256520: Sofa\n",
    "#DIRECTORY_MODELS = './reconstruction/02691156/mesh' # 02691156 : Plane\n",
    "#DIRECTORY_MODELS = './reconstruction/04379243/mesh' # 04379243: Table\n",
    "\n",
    "MODEL_EXTENSION = '.ply'\n",
    "file_name = []\n",
    "file_list = []\n",
    "for directory, _,files in os.walk(DIRECTORY_MODELS):\n",
    " #   print(files)\n",
    "    for filename in files:\n",
    "        if filename.endswith(MODEL_EXTENSION):\n",
    "\n",
    "            file_name.append(filename[:-4])\n",
    "            file_list.append(os.path.join(filename))\n",
    "                \n",
    "\n",
    "print(\"the number of Dataset:\", len(file_list))\n",
    "gt_dir = 'gt/'\n",
    "if not os.path.exists(gt_dir):\n",
    "    os.mkdir(gt_dir)\n",
    "\n",
    "cl1 = DIRECTORY_MODELS.split('/')[2]\n",
    "    \n",
    "DIRECTORY_GT = gt_dir + cl1\n",
    "GT_EXTENSION = '.obj'\n",
    "gt_obj = []\n",
    "for i in range(len(file_name)):\n",
    "#    if \n",
    "    dir = DIRECTORY_GT + \"/\" + file_name[i] +\"/\"\n",
    "  #  print(file_name[i])\n",
    "    if os.path.exists(dir):\n",
    "        a = 1\n",
    "    else:\n",
    "        continue\n",
    "        \n",
    "    for directory, _, gt_files in os.walk(dir):\n",
    "        for gt_file in gt_files:\n",
    "            if gt_file.endswith(GT_EXTENSION):\n",
    "                gt_obj.append(os.path.join(directory+ '/' + gt_file))\n",
    "                \n",
    "                \n",
    "                \n",
    "# print(len(gt_obj))\n",
    "# #print(sorted(file_list))"
   ]
  },
  {
   "cell_type": "code",
   "execution_count": 14,
   "id": "363d7f43-c42b-421f-977b-0b9857f9008d",
   "metadata": {},
   "outputs": [
    {
     "data": {
      "text/plain": [
       "'gt/04256520'"
      ]
     },
     "execution_count": 14,
     "metadata": {},
     "output_type": "execute_result"
    }
   ],
   "source": [
    "DIRECTORY_GT"
   ]
  },
  {
   "cell_type": "code",
   "execution_count": 171,
   "id": "f376ddee-418b-400a-8df0-8193fe56a1df",
   "metadata": {},
   "outputs": [
    {
     "name": "stdout",
     "output_type": "stream",
     "text": [
      "122963149f6a04272620819ddac40644.ply\n"
     ]
    },
    {
     "name": "stderr",
     "output_type": "stream",
     "text": [
      "concatenating texture: may result in visual artifacts\n",
      "concatenating texture: may result in visual artifacts\n"
     ]
    },
    {
     "name": "stdout",
     "output_type": "stream",
     "text": [
      "10eeb119fd5508e0d6d949577c389a84.ply\n",
      "121b5c1c81aa77906b153e6e0582b3ac.ply\n"
     ]
    },
    {
     "name": "stderr",
     "output_type": "stream",
     "text": [
      "concatenating texture: may result in visual artifacts\n"
     ]
    },
    {
     "name": "stdout",
     "output_type": "stream",
     "text": [
      "117830993cc5887726587cb13c78fb9b.ply\n",
      "10cfc2090a2ade124c3a35cee92bb95b.ply\n",
      "103c9e43cdf6501c62b600da24e0965.ply\n",
      "10e4331c34d610dacc14f1e6f4f4f49b.ply\n",
      "1203825bf97bc3524722e1824a086fad.ply\n"
     ]
    },
    {
     "name": "stderr",
     "output_type": "stream",
     "text": [
      "concatenating texture: may result in visual artifacts\n"
     ]
    },
    {
     "name": "stdout",
     "output_type": "stream",
     "text": [
      "123ac29b0aac8c8e5d07633dda45110.ply\n"
     ]
    },
    {
     "name": "stderr",
     "output_type": "stream",
     "text": [
      "concatenating texture: may result in visual artifacts\n",
      "concatenating texture: may result in visual artifacts\n"
     ]
    },
    {
     "name": "stdout",
     "output_type": "stream",
     "text": [
      "1021a0914a7207aff927ed529ad90a11.ply\n",
      "112ca5420188df4bd90bfc986bc4c94d.ply\n"
     ]
    },
    {
     "name": "stderr",
     "output_type": "stream",
     "text": [
      "concatenating texture: may result in visual artifacts\n"
     ]
    },
    {
     "name": "stdout",
     "output_type": "stream",
     "text": [
      "118e8142a8cb1fe19a4a28ef635593ce.ply\n",
      "124062ccaeae95085e9e2656aff7dd5b.ply\n"
     ]
    },
    {
     "name": "stderr",
     "output_type": "stream",
     "text": [
      "concatenating texture: may result in visual artifacts\n",
      "concatenating texture: may result in visual artifacts\n"
     ]
    },
    {
     "name": "stdout",
     "output_type": "stream",
     "text": [
      "1026dd1b26120799107f68a9cb8e3c.ply\n",
      "123bd9e948881939c38a1d3458dafa1b.ply\n"
     ]
    },
    {
     "name": "stderr",
     "output_type": "stream",
     "text": [
      "concatenating texture: may result in visual artifacts\n"
     ]
    },
    {
     "name": "stdout",
     "output_type": "stream",
     "text": [
      "121e9fceb90440efed79d3bd546890bd.ply\n"
     ]
    },
    {
     "name": "stderr",
     "output_type": "stream",
     "text": [
      "concatenating texture: may result in visual artifacts\n"
     ]
    },
    {
     "name": "stdout",
     "output_type": "stream",
     "text": [
      "122776d17b6a118086da73d36506db6f.ply\n"
     ]
    },
    {
     "name": "stderr",
     "output_type": "stream",
     "text": [
      "concatenating texture: may result in visual artifacts\n"
     ]
    },
    {
     "name": "stdout",
     "output_type": "stream",
     "text": [
      "10c7cdfdffe2243b88a89a28f04ce622.ply\n",
      "110f6dbf0e6216e9f9a63e9a8c332e52.ply\n",
      "10db820f0e20396a492c7ca609cb0182.ply\n",
      "10aa040f470500c6a66ef8df4909ded9.ply\n",
      "Chamfer:  0.1514755198514165 Median:  0.1554586844755423\n",
      "EMD:  0.39621568200779106 Median:  0.40751884032050933\n"
     ]
    }
   ],
   "source": [
    "cd_mean = []\n",
    "emd_mean = []\n",
    "#print(file_list)\n",
    "for i in range(len(file_list)):\n",
    "#    if \n",
    "    print(file_list[i])\n",
    "    rec_data = trimesh.load(DIRECTORY_MODELS +\"/\"+ file_list[i])\n",
    "    dir = DIRECTORY_GT + \"/\" + file_name[i] +\"/\"\n",
    "  #  print(file_name[i])\n",
    "    if os.path.exists(dir):\n",
    "        a = 1\n",
    "    else:\n",
    "        continue\n",
    "        \n",
    "    for directory, _, gt_files in os.walk(dir):\n",
    "        for gt_file in gt_files:\n",
    "            if gt_file.endswith(GT_EXTENSION):\n",
    "                gt_obj = (os.path.join(directory+ '/' + gt_file))\n",
    "                gt_data =trimesh.load(gt_obj, force='mesh')\n",
    "    Chamfer = compute_trimesh_chamfer(rec_data,gt_data,0, 2)\n",
    "    EMD = compute_trimesh_emd(rec_data,gt_data,0, 2)\n",
    "   #print(\"EMD\", EMD, \"Chamfer\", Chamfer)\n",
    "    cd_mean.append(Chamfer)\n",
    "    emd_mean.append(EMD)\n",
    "CD_M = sum(cd_mean)/len(cd_mean)\n",
    "EMD_M = sum(emd_mean)/len(emd_mean)\n",
    "cd_m = np.median(cd_mean)\n",
    "emd_m = np.median(emd_mean)\n",
    "print(\"Chamfer: \",CD_M, \"Median: \",cd_m)\n",
    "print(\"EMD: \", EMD_M, \"Median: \", emd_m)\n",
    "\n",
    "\n"
   ]
  },
  {
   "cell_type": "code",
   "execution_count": 133,
   "id": "096cfe12-213f-4b61-a684-ae2a6c3b6e46",
   "metadata": {},
   "outputs": [
    {
     "data": {
      "text/plain": [
       "True"
      ]
     },
     "execution_count": 133,
     "metadata": {},
     "output_type": "execute_result"
    }
   ],
   "source": [
    "os.path.exists(\"../gt/04356520/4b86c8d86e181ed8f51f77a6d7299806/models/\")"
   ]
  },
  {
   "cell_type": "code",
   "execution_count": null,
   "id": "60e319bc-3829-4352-99eb-e3ddaeaa3807",
   "metadata": {},
   "outputs": [],
   "source": [
    "\n",
    "\n",
    "\n",
    "for ii, data in enumerate(file_list):\n",
    "    \n",
    "    data_dir = os.path.join(DIRECTORY_MODELS, data)\n",
    "    rec_data = trimesh.load(data_dir)\n",
    "   # print(\"data_dir: \", data_dir)\n",
    "    gt_dir = os.path.join(DIRECTORY_GT, data[:-4], \"models/\")\n",
    "  #  print(gt_dir)\n",
    "  #  print(\"os.path.exists(gt_dir): \",os.path.exists(gt_dir))\n",
    "    if os.path.exists(gt_dir):\n",
    "        a = 1\n",
    "      #  print(\"YES\")\n",
    "    else:\n",
    "        continue\n",
    "        \n",
    "    for directory, _, gt_files in os.walk(gt_dir):\n",
    "        for gt_file in gt_files:\n",
    "            if gt_file.endswith(GT_EXTENSION):\n",
    "                gt_obj = (os.path.join(directory+ '/' + gt_file))\n",
    "                print(gt_obj)\n",
    "                gt_data =trimesh.load(gt_obj, force='mesh')\n",
    "    Chamfer = compute_trimesh_chamfer(rec_data,gt_data,0, 2)\n",
    "    EMD = compute_trimesh_emd(rec_data,gt_data,0, 2)\n",
    "   #print(\"EMD\", EMD, \"Chamfer\", Chamfer)\n",
    "    cd_mean.append(Chamfer)\n",
    "    emd_mean.append(EMD)\n",
    "CD_M = sum(cd_mean)/len(cd_mean)\n",
    "EMD_M = sum(emd_mean)/len(emd_mean)\n",
    "cd_m = np.median(cd_mean)\n",
    "emd_m = np.median(emd_mean)\n",
    "print(\"Chamfer: \",CD_M, \"Median: \",cd_m)\n",
    "print(\"EMD: \", EMD_M, \"Median: \", emd_m)"
   ]
  }
 ],
 "metadata": {
  "kernelspec": {
   "display_name": "Python 3",
   "language": "python",
   "name": "python3"
  },
  "language_info": {
   "codemirror_mode": {
    "name": "ipython",
    "version": 3
   },
   "file_extension": ".py",
   "mimetype": "text/x-python",
   "name": "python",
   "nbconvert_exporter": "python",
   "pygments_lexer": "ipython3",
   "version": "3.8.8"
  }
 },
 "nbformat": 4,
 "nbformat_minor": 5
}
