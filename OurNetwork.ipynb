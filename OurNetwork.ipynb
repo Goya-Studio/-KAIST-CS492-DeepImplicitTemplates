{
 "cells": [
  {
   "cell_type": "markdown",
   "id": "01b0e144",
   "metadata": {},
   "source": [
    "# our network"
   ]
  },
  {
   "cell_type": "code",
   "execution_count": 1,
   "id": "cd62de1c",
   "metadata": {},
   "outputs": [],
   "source": [
    "import torch\n",
    "import torch.nn as nn"
   ]
  },
  {
   "cell_type": "code",
   "execution_count": 2,
   "id": "5eb3258a",
   "metadata": {},
   "outputs": [],
   "source": [
    "# LSTM : Warper\n",
    "\n"
   ]
  },
  {
   "cell_type": "code",
   "execution_count": 37,
   "id": "52a6d1b9",
   "metadata": {},
   "outputs": [],
   "source": [
    "# MLP : SDF Decoder\n",
    "\n",
    "class MLP(nn.Module):\n",
    "    def __init__(self, layers, wn_layers, weight_norm, dropout_layers, dropout_prob):\n",
    "        \"\"\"\n",
    "            Initialize the MLP that extracts the template SDF\n",
    "        \"\"\"\n",
    "        \n",
    "        # layers: number of layers + size of each layer\n",
    "        # [256, 256, 256, 256, 256] \n",
    "        # => 5 layers with 256 neurons each\n",
    "        \n",
    "        # wn_layers: layer indices in which normalization is used\n",
    "        # [0, 1, 2, 3, 4]\n",
    "        \n",
    "        # weight_norm: bool\n",
    "        # which normalization to use????? TODO\n",
    "        \n",
    "        # dropout_layers: layer indices in which dropout is used\n",
    "        # [0, 1, 2, 3, 4]\n",
    "        \n",
    "        # dropout_prob: probability for dropout\n",
    "        # 0.05\n",
    "        \n",
    "        super(MLP, self).__init__()\n",
    "        \n",
    "        \n",
    "        self.numlayers = len(layers)+1\n",
    "        print(\"numlayers\", self.numlayers)\n",
    "        \n",
    "        in_dim = 3\n",
    "        out_dim = 1\n",
    "        \n",
    "        self.layers = nn.ModuleList()\n",
    "        for i in range(self.numlayers):\n",
    "            print(i)\n",
    "            # layer input feature count (for first layer: in_dim)\n",
    "            in_features = in_dim if (i == 0) else layers[i-1]\n",
    "            # layer output feature count (for last layer: out_dim)\n",
    "            out_features = out_dim if (i == (len(layers))) else layers[i]\n",
    "            \n",
    "            # fully connected layer\n",
    "            layer = nn.Linear(in_features, out_features)\n",
    "            \n",
    "            modules = [layer]\n",
    "            if i in wn_layers:\n",
    "                # weight normalization layer\n",
    "                if False:  ##########weight_norm: ########## TODO\n",
    "                    layer = nn.utils.weight_norm(layer) # ????????\n",
    "                    modules[0] = layer\n",
    "                else:\n",
    "                    modules.append(nn.LayerNorm(out_features))\n",
    "            \n",
    "            # activation (tanh if last layer, else relu)\n",
    "            activation = nn.Tanh() if (i == (len(layers))) else nn.ReLU()\n",
    "            modules.append(activation)\n",
    "            \n",
    "            # dropout\n",
    "            if i in dropout_layers: ### TODO only if training??\n",
    "                modules.append(nn.Dropout(dropout_prob))\n",
    "            \n",
    "            \n",
    "            # if last layer (and tanh) => another tanh??\n",
    "            if (i == (len(layers))): #### TODO and tanh\n",
    "                modules.append(nn.Tanh())\n",
    "            \n",
    "            sequential = nn.Sequential(*modules)\n",
    "            self.layers.append(sequential)\n",
    "            \n",
    "    def forward(self, x):\n",
    "        for i, layer in enumerate(self.layers):\n",
    "            x = layer(x)\n",
    "        return x"
   ]
  },
  {
   "cell_type": "code",
   "execution_count": 38,
   "id": "54fe0b6c",
   "metadata": {},
   "outputs": [
    {
     "name": "stdout",
     "output_type": "stream",
     "text": [
      "numlayers 6\n",
      "0\n",
      "1\n",
      "2\n",
      "3\n",
      "4\n",
      "5\n"
     ]
    }
   ],
   "source": [
    "dims = [256,256,256,256,256]\n",
    "dropout =[0,1,2,3,4]\n",
    "dropout_prob = 0.05\n",
    "norm_layer = [0,1,2,3,4]\n",
    "xyz_in_all = False\n",
    "weight_norm = True\n",
    "\n",
    "mlp = MLP(dims, norm_layer, weight_norm, dropout, dropout_prob)"
   ]
  },
  {
   "cell_type": "code",
   "execution_count": 40,
   "id": "221de679",
   "metadata": {},
   "outputs": [
    {
     "data": {
      "text/plain": [
       "MLP(\n",
       "  (layers): ModuleList(\n",
       "    (0): Sequential(\n",
       "      (0): Linear(in_features=3, out_features=256, bias=True)\n",
       "      (1): LayerNorm((256,), eps=1e-05, elementwise_affine=True)\n",
       "      (2): ReLU()\n",
       "      (3): Dropout(p=0.05, inplace=False)\n",
       "    )\n",
       "    (1): Sequential(\n",
       "      (0): Linear(in_features=256, out_features=256, bias=True)\n",
       "      (1): LayerNorm((256,), eps=1e-05, elementwise_affine=True)\n",
       "      (2): ReLU()\n",
       "      (3): Dropout(p=0.05, inplace=False)\n",
       "    )\n",
       "    (2): Sequential(\n",
       "      (0): Linear(in_features=256, out_features=256, bias=True)\n",
       "      (1): LayerNorm((256,), eps=1e-05, elementwise_affine=True)\n",
       "      (2): ReLU()\n",
       "      (3): Dropout(p=0.05, inplace=False)\n",
       "    )\n",
       "    (3): Sequential(\n",
       "      (0): Linear(in_features=256, out_features=256, bias=True)\n",
       "      (1): LayerNorm((256,), eps=1e-05, elementwise_affine=True)\n",
       "      (2): ReLU()\n",
       "      (3): Dropout(p=0.05, inplace=False)\n",
       "    )\n",
       "    (4): Sequential(\n",
       "      (0): Linear(in_features=256, out_features=256, bias=True)\n",
       "      (1): LayerNorm((256,), eps=1e-05, elementwise_affine=True)\n",
       "      (2): ReLU()\n",
       "      (3): Dropout(p=0.05, inplace=False)\n",
       "    )\n",
       "    (5): Sequential(\n",
       "      (0): Linear(in_features=256, out_features=1, bias=True)\n",
       "      (1): Tanh()\n",
       "      (2): Tanh()\n",
       "    )\n",
       "  )\n",
       ")"
      ]
     },
     "execution_count": 40,
     "metadata": {},
     "output_type": "execute_result"
    }
   ],
   "source": [
    "mlp"
   ]
  },
  {
   "cell_type": "code",
   "execution_count": 39,
   "id": "8602eecb",
   "metadata": {},
   "outputs": [
    {
     "name": "stdout",
     "output_type": "stream",
     "text": [
      "input shape:  torch.Size([3, 3]) | dtype:  torch.float32\n",
      "output shape:  torch.Size([3, 1]) | dtype:  torch.float32\n",
      "tensor([[-0.2518],\n",
      "        [-0.5215],\n",
      "        [-0.2699]], grad_fn=<TanhBackward>)\n"
     ]
    }
   ],
   "source": [
    "x_test = torch.ones(3,3)\n",
    "print('input shape: ', x_test.shape, '| dtype: ', x_test.dtype)\n",
    "\n",
    "output = mlp(x_test)\n",
    "print('output shape: ', output.shape, '| dtype: ', output.dtype)\n",
    "print(output)"
   ]
  },
  {
   "cell_type": "code",
   "execution_count": null,
   "id": "37e0cd6f",
   "metadata": {},
   "outputs": [],
   "source": [
    "# Decoder : warper + sdf_decoder"
   ]
  },
  {
   "cell_type": "code",
   "execution_count": null,
   "id": "4fdd23d9",
   "metadata": {},
   "outputs": [],
   "source": [
    "# collect data for training/validation"
   ]
  },
  {
   "cell_type": "code",
   "execution_count": 47,
   "id": "8642f077",
   "metadata": {},
   "outputs": [],
   "source": [
    "# loss functions\n",
    "\n",
    "def curriculum_training_loss(data, e, l):\n",
    "    return 1 ####### TODO\n",
    "def rec_loss_with_warping_steps(s, K, N, e, l):\n",
    "    loss = 0\n",
    "    for k in range(1, K+1): # for each shape\n",
    "        for i in range(1, N+1): # for each SDF sample (of one shape)\n",
    "            data = 1 ### TODO # warped point AND ground truth sdf value\n",
    "            loss += curriculum_training_loss(data, e,l)\n",
    "    return loss\n",
    "            \n",
    "\n",
    "def reconstruction_loss():\n",
    "    # progressive reconstruction loss\n",
    "    #warping steps\n",
    "    rec_loss = 0\n",
    "    for s in (2,4,6,8):\n",
    "        rec_loss += rec_loss_with_warping_steps(s, 1, 1, 1, 1) ##### TODO\n",
    "    return rec_loss\n",
    "\n",
    "def regularization_loss():\n",
    "    # point-wise regularization\n",
    "    #### TODO\n",
    "    #point pair regularization\n",
    "    #### TODO\n",
    "    return 1\n",
    "    \n",
    "def loss():\n",
    "    return reconstruction_loss() + regularization_loss()"
   ]
  },
  {
   "cell_type": "code",
   "execution_count": null,
   "id": "24640799",
   "metadata": {},
   "outputs": [],
   "source": [
    "# Training"
   ]
  },
  {
   "cell_type": "code",
   "execution_count": null,
   "id": "33cc15f4",
   "metadata": {},
   "outputs": [],
   "source": [
    "# Test"
   ]
  },
  {
   "cell_type": "code",
   "execution_count": 9,
   "id": "e93c90b8",
   "metadata": {},
   "outputs": [],
   "source": [
    "x_test = torch.randn(5, 6)"
   ]
  },
  {
   "cell_type": "code",
   "execution_count": 46,
   "id": "516d6b0a",
   "metadata": {},
   "outputs": [
    {
     "data": {
      "text/plain": [
       "5"
      ]
     },
     "execution_count": 46,
     "metadata": {},
     "output_type": "execute_result"
    }
   ],
   "source": [
    "loss()"
   ]
  },
  {
   "cell_type": "code",
   "execution_count": null,
   "id": "ff519e01",
   "metadata": {},
   "outputs": [],
   "source": []
  }
 ],
 "metadata": {
  "kernelspec": {
   "display_name": "Python 3",
   "language": "python",
   "name": "python3"
  },
  "language_info": {
   "codemirror_mode": {
    "name": "ipython",
    "version": 3
   },
   "file_extension": ".py",
   "mimetype": "text/x-python",
   "name": "python",
   "nbconvert_exporter": "python",
   "pygments_lexer": "ipython3",
   "version": "3.8.8"
  }
 },
 "nbformat": 4,
 "nbformat_minor": 5
}
